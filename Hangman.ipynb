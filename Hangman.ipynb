{
 "cells": [
  {
   "cell_type": "code",
   "execution_count": 1,
   "metadata": {},
   "outputs": [],
   "source": [
    "def is_word_guessed(secret_word, letters_guessed):\n",
    "  flag = True\n",
    "  for i in secret_word:\n",
    "    if i not in letters_guessed:\n",
    "      flag = False\n",
    "      break\n",
    "\n",
    "  return flag"
   ]
  },
  {
   "cell_type": "code",
   "execution_count": 2,
   "metadata": {},
   "outputs": [],
   "source": [
    "def get_guessed_word(secret_word, letters_guessed):\n",
    "  nlist = [x if x in letters_guessed else '_ ' for x in secret_word]\n",
    "  return ''.join(nlist)"
   ]
  },
  {
   "cell_type": "code",
   "execution_count": 3,
   "metadata": {},
   "outputs": [],
   "source": [
    "import string\n",
    "def get_available_letters(letters_guessed):\n",
    "\n",
    "    available = string.ascii_lowercase\n",
    "    for i in letters_guessed:\n",
    "      available = available.replace(i,'')\n",
    "\n",
    "    return available"
   ]
  },
  {
   "cell_type": "code",
   "execution_count": 4,
   "metadata": {},
   "outputs": [],
   "source": [
    "def hangman(secret_word):\n",
    "    print('Welcome to the game Hangman!')\n",
    "    print(f'I am thinking of a word that is {len(secret_word)} letters long.')\n",
    "    print(' '+'-'*35)\n",
    "\n",
    "    guesses_remaining = 6\n",
    "    letters_guessed = []\n",
    "\n",
    "    while True:\n",
    "      print(f'You have {guesses_remaining} guesses left.')\n",
    "      print(f'Available letters: {get_available_letters(letters_guessed)}')\n",
    "\n",
    "      char = input(\"Please guess a letter: \")\n",
    "      if char in letters_guessed:\n",
    "        print('You\\'ve already guessed that letter')\n",
    "        print(' '+'-'*35)\n",
    "        continue\n",
    "      elif char.isalpha() == False:\n",
    "        print('That is not a valid letter.')\n",
    "        print(' '+'-'*35)\n",
    "        continue\n",
    "      elif len(char)!=1:\n",
    "        print(\"Please enter 1 character\")\n",
    "        print(' '+'-'*35)\n",
    "        continue\n",
    "      letters_guessed.append(char.lower())\n",
    "\n",
    "      if char in secret_word:\n",
    "        print(f'Good guess: {get_guessed_word(secret_word, letters_guessed)}')\n",
    "      else:\n",
    "        print(f'Oops! That letter is not in my word: {get_guessed_word(secret_word, letters_guessed)}')\n",
    "        if char in 'aeiou':\n",
    "          guesses_remaining -= 2\n",
    "        else:\n",
    "          guesses_remaining -= 1\n",
    "\n",
    "      print(' '+'-'*35)\n",
    "\n",
    "      if is_word_guessed(secret_word, letters_guessed):\n",
    "        total = guesses_remaining * len(set(secret_word))\n",
    "        print(f'Congratulations, you won!\\nYour total score for this game is: {total}')\n",
    "        break\n",
    "\n",
    "      if guesses_remaining == 0:\n",
    "        print(f'Sorry, you ran out of guesses. The word was {secret_word}')\n",
    "        break"
   ]
  },
  {
   "cell_type": "code",
   "execution_count": 6,
   "metadata": {},
   "outputs": [
    {
     "name": "stdout",
     "output_type": "stream",
     "text": [
      "Welcome to the game Hangman!\n",
      "I am thinking of a word that is 5 letters long.\n",
      " -----------------------------------\n",
      "You have 6 guesses left.\n",
      "Available letters: abcdefghijklmnopqrstuvwxyz\n",
      "Oops! That letter is not in my word: _ _ _ _ _ \n",
      " -----------------------------------\n",
      "You have 4 guesses left.\n",
      "Available letters: abcdfghijklmnopqrstuvwxyz\n",
      "Oops! That letter is not in my word: _ _ _ _ _ \n",
      " -----------------------------------\n",
      "You have 3 guesses left.\n",
      "Available letters: abcdfghijklmnopqstuvwxyz\n",
      "Good guess: _ t_ _ _ \n",
      " -----------------------------------\n",
      "You have 3 guesses left.\n",
      "Available letters: abcdfghijklmnopqsuvwxyz\n",
      "Good guess: st_ _ _ \n",
      " -----------------------------------\n",
      "You have 3 guesses left.\n",
      "Available letters: abcdfghijklmnopquvwxyz\n",
      "Oops! That letter is not in my word: st_ _ _ \n",
      " -----------------------------------\n",
      "You have 1 guesses left.\n",
      "Available letters: bcdfghijklmnopquvwxyz\n",
      "Good guess: sti_ _ \n",
      " -----------------------------------\n",
      "You have 1 guesses left.\n",
      "Available letters: bcdfghjklmnopquvwxyz\n",
      "Good guess: stic_ \n",
      " -----------------------------------\n",
      "You have 1 guesses left.\n",
      "Available letters: bdfghjklmnopquvwxyz\n",
      "Good guess: stick\n",
      " -----------------------------------\n",
      "Congratulations, you won!\n",
      "Your total score for this game is: 5\n"
     ]
    }
   ],
   "source": [
    "import random\n",
    "\n",
    "words = ['army', 'beautiful', 'sorry', 'became', 'if', 'actually', 'beside', 'between', 'come',' eye', 'five', 'fur', 'imposter', 'problem', 'revenge', 'few', 'circle', 'district', 'trade', 'quota', 'stop', 'depressed', 'disorder', 'dentist', 'square', 'charger', 'color','stick']\n",
    "\n",
    "random_word = random.choice(words)\n",
    "\n",
    "hangman(random_word)"
   ]
  }
 ],
 "metadata": {
  "kernelspec": {
   "display_name": "Python 3",
   "language": "python",
   "name": "python3"
  },
  "language_info": {
   "codemirror_mode": {
    "name": "ipython",
    "version": 3
   },
   "file_extension": ".py",
   "mimetype": "text/x-python",
   "name": "python",
   "nbconvert_exporter": "python",
   "pygments_lexer": "ipython3",
   "version": "3.10.7"
  }
 },
 "nbformat": 4,
 "nbformat_minor": 2
}
